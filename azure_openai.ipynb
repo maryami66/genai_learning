{
 "cells": [
  {
   "attachments": {},
   "cell_type": "markdown",
   "id": "32ca2c3e-adf4-4e8a-9f45-df2de4a4a94c",
   "metadata": {},
   "source": [
    "# Develop GenAI solutions with Azure OpenAI Service\n",
    "Azure OpenAI provides scalable access to OpenAI's language models, including GPT-4, for secure and powerful NLP solutions.\r\n"
   ]
  },
  {
   "cell_type": "code",
   "execution_count": 24,
   "id": "32bd7f8c-aea6-4daf-a90f-c3d05c7385b9",
   "metadata": {},
   "outputs": [],
   "source": [
    "# Add you code here\n",
    "AZURE_OpenAI_ENDPOINT= \"\"\n",
    "AZURE_OpenAI_KEY= \"\"\n",
    "AZURE_OpenAI_MODEL= \"\"\n",
    "API_Version = \"\""
   ]
  },
  {
   "cell_type": "markdown",
   "id": "982d4ebb-815e-4134-b59b-9fc45b289a3b",
   "metadata": {},
   "source": [
    "## Install libraries"
   ]
  },
  {
   "cell_type": "code",
   "execution_count": null,
   "id": "726865e2-9e90-4ff4-bb5c-dd1b7652d6c0",
   "metadata": {},
   "outputs": [],
   "source": [
    "!pip install openai"
   ]
  },
  {
   "cell_type": "markdown",
   "id": "d998ac76-57bc-4279-9d39-3a1ad7025723",
   "metadata": {},
   "source": [
    "GPT-3.5 and GPT-4 in Azure are designed as a chat-based model, optimized for conversational interactions. Therefore, we need to call `chat.completions.create` to get completion.\n",
    "\n",
    "1. Chat Completion (`chat.completions.create`):\n",
    "   - Designed for conversational AI.\n",
    "   - Requires prompts to be structured as messages with roles (e.g., system, user, assistant).\n",
    "   - Suitable for models like gpt-4, gpt-3.5-turbo, etc.\n",
    "2. Text Completion (`completions.create`):\n",
    "   - Designed for generating or completing text based on a given prompt.\n",
    "   - Suitable for models like text-davinci-003, text-curie-001, etc.\n",
    "   - Not compatible with chat-based models like gpt-4.\r\n"
   ]
  },
  {
   "cell_type": "code",
   "execution_count": null,
   "id": "d0042e68-3cf8-47d1-9d0b-c5da266eb548",
   "metadata": {},
   "outputs": [],
   "source": [
    "from openai import AzureOpenAI\n",
    "\n",
    "client = AzureOpenAI(\n",
    "    azure_endpoint=AZURE_OpenAI_ENDPOINT,\n",
    "    api_version=API_Version,\n",
    "    api_key=AZURE_OpenAI_KEY,\n",
    "    )\n",
    "\n",
    "message = [\n",
    "    {\"role\": \"user\", \"content\": \"What is SDK?\"}\n",
    "]\n",
    "\n",
    "response = client.chat.completions.create(\n",
    "    model=AZURE_OpenAI_MODEL,\n",
    "    messages=message,\n",
    "    temperature=0.2)\n",
    "\n",
    "print(response.choices[0].message.content)\n"
   ]
  }
 ],
 "metadata": {
  "kernelspec": {
   "display_name": "Python 3 (ipykernel)",
   "language": "python",
   "name": "python3"
  },
  "language_info": {
   "codemirror_mode": {
    "name": "ipython",
    "version": 3
   },
   "file_extension": ".py",
   "mimetype": "text/x-python",
   "name": "python",
   "nbconvert_exporter": "python",
   "pygments_lexer": "ipython3",
   "version": "3.10.4"
  }
 },
 "nbformat": 4,
 "nbformat_minor": 5
}
